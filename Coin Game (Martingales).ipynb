{
 "cells": [
  {
   "cell_type": "markdown",
   "id": "2169a8a0-044a-48e9-b7c5-2ce39af13cb0",
   "metadata": {},
   "source": [
    "The blobs are gambling! They have an initial bet size and a budget. Each turn, they flip a 50-50 coin: if heads, they win the value of their bet, if tails, they lose the amount they bet. If they lose, they increase their bet so that the next time win they recover all their losses. If they cannot afford to double their bet, they stop betting and lose. If they make a profit, they stop betting and win. For each betting strategy we'll simulate it to get the probability of winning and the expected gains/losses."
   ]
  },
  {
   "cell_type": "code",
   "execution_count": 1,
   "id": "b44f304e-eeaa-40fe-a227-8dc2bc6fc50c",
   "metadata": {},
   "outputs": [],
   "source": [
    "import random as r\n",
    "import matplotlib.pyplot as plt\n",
    "from tqdm import tqdm\n",
    "initialBetSize = 2\n",
    "budget = 10000\n",
    "winProb = 0.5"
   ]
  },
  {
   "cell_type": "markdown",
   "id": "b160f9da-3a2d-49a1-b6ca-cf1b642f2267",
   "metadata": {},
   "source": [
    "Main Class"
   ]
  },
  {
   "cell_type": "code",
   "execution_count": 2,
   "id": "7327d373-cc7e-4ca7-a154-ac0398a8c493",
   "metadata": {},
   "outputs": [],
   "source": [
    "class Martingale:\n",
    "    def __init__(self, initial, budget):\n",
    "        self.initial = initial\n",
    "        self.budget = budget\n",
    "        self.losses = 0\n",
    "        self.profit = 0\n",
    "        self.turns = 0\n",
    "    def bet(self, amount):\n",
    "        self.turns += 1\n",
    "        if r.uniform(0, 1) > winProb:\n",
    "            self.losses += amount\n",
    "        else:\n",
    "            if self.losses > 0:\n",
    "                self.losses -= amount\n",
    "            else:\n",
    "                self.profit += amount\n",
    "    def pickAmount(self):\n",
    "        return(max(self.losses, self.initial))\n",
    "    def stoppingCheck(self):\n",
    "        if self.losses > self.budget - self.losses:\n",
    "            return(True)\n",
    "        elif self.profit >  0:\n",
    "            return(True)\n",
    "        else:\n",
    "            return(False)"
   ]
  },
  {
   "cell_type": "markdown",
   "id": "2c679bb0-463b-42d5-a170-7729b5111fb1",
   "metadata": {},
   "source": [
    "Experiment"
   ]
  },
  {
   "cell_type": "code",
   "execution_count": 3,
   "id": "57552d8c-a557-448f-9e43-82231bc6d2de",
   "metadata": {},
   "outputs": [
    {
     "name": "stderr",
     "output_type": "stream",
     "text": [
      "100%|███████████████████████████████████████████████████████████████████████████████████████████████████████████████| 1000000/1000000 [00:10<00:00, 95369.60it/s]"
     ]
    },
    {
     "name": "stdout",
     "output_type": "stream",
     "text": [
      "Probability of winning something = 0.999773\n",
      "Expected value of playing = -0.00819\n"
     ]
    },
    {
     "name": "stderr",
     "output_type": "stream",
     "text": [
      "\n"
     ]
    }
   ],
   "source": [
    "nBlobs = 10 ** 6\n",
    "winningCount = 0\n",
    "losingCount = 0\n",
    "winningAmount = 0\n",
    "losingAmount = 0\n",
    "for i in tqdm(range(nBlobs)):\n",
    "    blob = Martingale(initialBetSize, budget)\n",
    "    stop = False\n",
    "    while not stop:\n",
    "        amount = blob.pickAmount()\n",
    "        blob.bet(amount)\n",
    "        stop = blob.stoppingCheck()\n",
    "    if blob.profit > 0:\n",
    "        winningCount += 1\n",
    "        winningAmount = blob.profit\n",
    "    else:\n",
    "        losingCount += 1\n",
    "        losingAmount = blob.losses\n",
    "print(f\"Probability of winning something = {winningCount / nBlobs}\")\n",
    "print(f\"Expected value of playing = {(winningAmount - losingAmount) / nBlobs}\")"
   ]
  },
  {
   "cell_type": "markdown",
   "id": "8d7b8bd5-df84-49b4-8046-5f0efded0e43",
   "metadata": {},
   "source": [
    "If we have a budget which is large compared to our bet size, we have a very high chance of making a profit, but the profits tend to be very small compared to our budget, which we have a small (but non-zero) chance of losing. If our budget was infinite we would in principle be able to get arbitrarily huge profits by repeatedly doubling our bets until we win, but for non-infinite budgets the expected value tends to zero from the negative direction as the budget increases."
   ]
  }
 ],
 "metadata": {
  "kernelspec": {
   "display_name": "Python 3 (ipykernel)",
   "language": "python",
   "name": "python3"
  },
  "language_info": {
   "codemirror_mode": {
    "name": "ipython",
    "version": 3
   },
   "file_extension": ".py",
   "mimetype": "text/x-python",
   "name": "python",
   "nbconvert_exporter": "python",
   "pygments_lexer": "ipython3",
   "version": "3.10.16"
  }
 },
 "nbformat": 4,
 "nbformat_minor": 5
}
